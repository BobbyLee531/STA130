{
 "cells": [
  {
   "cell_type": "code",
   "execution_count": 13,
   "id": "92994b31",
   "metadata": {},
   "outputs": [
    {
     "name": "stdout",
     "output_type": "stream",
     "text": [
      "Missing data counts for each column:\n",
      "longitude               0\n",
      "latitude                0\n",
      "housing_median_age      0\n",
      "total_rooms             0\n",
      "total_bedrooms        207\n",
      "population              0\n",
      "households              0\n",
      "median_income           0\n",
      "median_house_value      0\n",
      "ocean_proximity         0\n",
      "dtype: int64\n"
     ]
    }
   ],
   "source": [
    "import pandas as pd\n",
    "\n",
    "# I will find a dataset online that meets the criteria, download it, and calculate the missing data counts.\n",
    "url = \"https://raw.githubusercontent.com/ageron/handson-ml/master/datasets/housing/housing.csv\"\n",
    "\n",
    "\n",
    "\n",
    "# Load the dataset from the provided URL\n",
    "df = pd.read_csv(url)\n",
    "\n",
    "\n",
    "# Calculate the missing data counts for each column\n",
    "missing_data_counts = df.isnull().sum()\n",
    "\n",
    "# Print the missing data counts\n",
    "print(\"Missing data counts for each column:\")\n",
    "print(missing_data_counts)\n",
    "\n"
   ]
  },
  {
   "cell_type": "markdown",
   "id": "029a3e2b",
   "metadata": {
    "scrolled": true
   },
   "source": [
    "# Summary of Dataset Exploration and Missing Data Analysis\n",
    "\n",
    "### Objective:\n",
    "The objective of this task was to identify an interesting dataset containing missing values, analyze it using Python's `pandas` library, and display the counts of missing data for each column.\n",
    "\n",
    "### Dataset:\n",
    "We used the **California Housing Prices Dataset** available [here](https://raw.githubusercontent.com/ageron/handson-ml/master/datasets/housing/housing.csv). This dataset contains various information about housing prices in California, including features like `longitude`, `latitude`, `housing_median_age`, `total_rooms`, and more. The dataset includes missing values in the `total_bedrooms` column.\n",
    "\n",
    "### Analysis:\n",
    "\n",
    "To analyze the missing values in the dataset, the following steps were performed:\n",
    "\n",
    "1. **Dataset Loading**: The dataset was loaded directly from the provided URL using `pandas.read_csv()`.\n",
    "2. **Missing Data Count Calculation**: We used the `isnull().sum()` method to calculate the number of missing values in each column of the dataset.\n",
    "3. **Display of Missing Data**: The missing data counts were printed, showing which columns contained missing values.\n",
    "\n",
    "### Code Implementation:\n",
    "\n",
    "The code used to perform the above steps is as follows:\n",
    "\n",
    "```python\n",
    "import pandas as pd\n",
    "\n",
    "# Load the dataset from the provided URL\n",
    "url = \"https://raw.githubusercontent.com/ageron/handson-ml/master/datasets/housing/housing.csv\"\n",
    "df = pd.read_csv(url)\n",
    "\n",
    "# Calculate the missing data counts for each column\n",
    "missing_data_counts = df.isnull().sum()\n",
    "\n",
    "# Print the missing data counts\n",
    "print(\"Missing data counts for each column:\")\n",
    "print(missing_data_counts)\n",
    "```\n",
    "\n",
    "### Results:\n",
    "\n",
    "The dataset contains missing values primarily in the `total_bedrooms` column. Below is a sample of the missing data counts:\n",
    "\n",
    "```\n",
    "longitude             0\n",
    "latitude              0\n",
    "housing_median_age    0\n",
    "total_rooms           0\n",
    "total_bedrooms       207\n",
    "population            0\n",
    "households            0\n",
    "median_income         0\n",
    "median_house_value    0\n",
    "dtype: int64\n",
    "```\n",
    "\n",
    "### Conclusion:\n",
    "\n",
    "The analysis successfully identified missing values in the dataset. The code provided can be reused to analyze other datasets containing missing values. This exercise demonstrates how to identify and handle missing data in real-world datasets using Python.\n",
    "\n"
   ]
  },
  {
   "cell_type": "code",
   "execution_count": null,
   "id": "3a7bb971",
   "metadata": {},
   "outputs": [],
   "source": []
  },
  {
   "cell_type": "code",
   "execution_count": null,
   "id": "1ffe3262",
   "metadata": {},
   "outputs": [],
   "source": []
  }
 ],
 "metadata": {
  "kernelspec": {
   "display_name": "Python 3 (ipykernel)",
   "language": "python",
   "name": "python3"
  },
  "language_info": {
   "codemirror_mode": {
    "name": "ipython",
    "version": 3
   },
   "file_extension": ".py",
   "mimetype": "text/x-python",
   "name": "python",
   "nbconvert_exporter": "python",
   "pygments_lexer": "ipython3",
   "version": "3.11.6"
  }
 },
 "nbformat": 4,
 "nbformat_minor": 5
}
